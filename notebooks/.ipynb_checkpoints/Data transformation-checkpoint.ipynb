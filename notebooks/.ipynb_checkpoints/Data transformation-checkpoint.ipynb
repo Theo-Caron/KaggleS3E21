{
 "cells": [
  {
   "cell_type": "code",
   "execution_count": 1,
   "id": "b40caec6",
   "metadata": {},
   "outputs": [],
   "source": [
    "import numpy as np\n",
    "import pandas as pd\n",
    "pd.set_option('display.max_columns', None)\n",
    "\n",
    "\n",
    "import matplotlib.pyplot as plt\n",
    "import seaborn as sns\n",
    "plt.rcParams['figure.figsize'] = (15, 20)\n",
    "\n",
    "from sklearn.ensemble import RandomForestRegressor\n",
    "from sklearn.metrics import mean_absolute_error\n",
    "\n",
    "from sklearn.model_selection import train_test_split\n",
    "from sklearn.preprocessing import StandardScaler\n",
    "from sklearn.preprocessing import MinMaxScaler, RobustScaler, Normalizer\n",
    "\n",
    "from sklearn.feature_selection import SequentialFeatureSelector\n",
    "from sklearn.model_selection import cross_val_score\n",
    "from sklearn.model_selection import RepeatedKFold\n",
    "\n",
    "from sklearn.ensemble import IsolationForest\n",
    "from sklearn.covariance import EllipticEnvelope\n",
    "from sklearn.neighbors import LocalOutlierFactor\n",
    "from sklearn.svm import OneClassSVM\n",
    "from sklearn.linear_model import SGDOneClassSVM\n",
    "\n",
    "import math\n",
    "import scipy.stats as ss"
   ]
  },
  {
   "cell_type": "code",
   "execution_count": 2,
   "id": "93137893",
   "metadata": {},
   "outputs": [],
   "source": [
    "#Reading Files\n",
    "path = \"/Users/larst/OneDrive/Documents/GitHub/KaggleS3E21/data/\"\n",
    "data = pd.read_csv(path+\"sample_submission.csv\")"
   ]
  },
  {
   "cell_type": "code",
   "execution_count": 3,
   "id": "e06dbba1",
   "metadata": {},
   "outputs": [],
   "source": [
    "rf = RandomForestRegressor(\n",
    "       n_estimators=1000,\n",
    "       max_depth=7,\n",
    "       n_jobs=-1,\n",
    "       random_state=42)\n",
    "\n"
   ]
  },
  {
   "cell_type": "code",
   "execution_count": 4,
   "id": "9c5968d3",
   "metadata": {},
   "outputs": [
    {
     "name": "stdout",
     "output_type": "stream",
     "text": [
      "RMSE Mean (BASELINE): -1.3770624373999154, Standard Deviation: 0.6399666156079411\n"
     ]
    }
   ],
   "source": [
    "X, y = data.drop('target', axis = 1), data.target\n",
    "\n",
    "scores = cross_val_score(rf, \n",
    "                         X, \n",
    "                         y,\n",
    "                         cv = 10, \n",
    "                         scoring = 'neg_root_mean_squared_error',\n",
    "                         n_jobs = -1)\n",
    "\n",
    "print(f'RMSE Mean (BASELINE): {scores.mean()}, Standard Deviation: {scores.std()}')\n",
    "\n"
   ]
  },
  {
   "cell_type": "code",
   "execution_count": 5,
   "id": "2eeedbd8",
   "metadata": {},
   "outputs": [],
   "source": [
    "#clipping\n",
    "data.target = data.target.clip(lower = 7, upper = 20)\n",
    "\n"
   ]
  },
  {
   "cell_type": "code",
   "execution_count": 6,
   "id": "a905dafc",
   "metadata": {},
   "outputs": [
    {
     "name": "stdout",
     "output_type": "stream",
     "text": [
      "Outliers detected (SGD One Class SVM): 29\n",
      "[SGDOneClassSVM] --> RMSE Mean: -0.9854915037766169, Standard Deviation: 0.101814869695318\n"
     ]
    }
   ],
   "source": [
    "svm = SGDOneClassSVM(nu=0.55)\n",
    "yhat = svm.fit_predict(data.drop('id', axis = 1))\n",
    "\n",
    "print('Outliers detected (SGD One Class SVM): {}'.format(np.count_nonzero(yhat == -1)))\n",
    "\n",
    "mask = yhat != -1\n",
    "data_SVM = data.loc[mask, :].reset_index(drop = True)\n",
    "\n",
    "X_SVM, Y_SVM = data_SVM.drop('target', axis = 1), data_SVM.target\n",
    "\n",
    "scores = cross_val_score(rf, \n",
    "                         X_SVM,\n",
    "                         Y_SVM,\n",
    "                         cv = 10, \n",
    "                         scoring = 'neg_root_mean_squared_error',\n",
    "                         n_jobs = -1)\n",
    "\n",
    "print(f'[{svm.__class__.__name__}] --> RMSE Mean: {scores.mean()}, Standard Deviation: {scores.std()}')"
   ]
  },
  {
   "cell_type": "code",
   "execution_count": null,
   "id": "28546e49",
   "metadata": {},
   "outputs": [
    {
     "name": "stdout",
     "output_type": "stream",
     "text": [
      "Outliers detected (Isolation Forest): 72\n"
     ]
    }
   ],
   "source": [
    "iso = IsolationForest(random_state = 0)\n",
    "yhat = iso.fit_predict(data_SVM.drop('id', axis = 1))\n",
    "\n",
    "print('Outliers detected (Isolation Forest): {}'.format(np.count_nonzero(yhat == -1)))\n",
    "\n",
    "mask = yhat != -1\n",
    "data_ISO = data_SVM.loc[mask, :].reset_index(drop = True)\n",
    "\n",
    "X_ISO, Y_ISO = data_ISO.drop(\"target\", axis=1), data_ISO.target\n",
    "\n",
    "scores = cross_val_score(rf, \n",
    "                         X_ISO,\n",
    "                         Y_ISO,\n",
    "                         cv = 10, \n",
    "                         scoring = 'neg_root_mean_squared_error',\n",
    "                         n_jobs = -1)\n",
    "\n",
    "print(f'[{iso.__class__.__name__}] --> RMSE Mean: {scores.mean()}, Standard Deviation: {scores.std()}')"
   ]
  },
  {
   "cell_type": "code",
   "execution_count": null,
   "id": "62e2e4f5",
   "metadata": {},
   "outputs": [],
   "source": [
    "lof = LocalOutlierFactor(n_neighbors=3, contamination=0.12)\n",
    "yhat = lof.fit_predict(data_ISO.drop(['id', 'target'], axis = 1))\n",
    "\n",
    "print('Outliers detected (Local Outlier Factor): {}'.format(np.count_nonzero(yhat == -1)))\n",
    "\n",
    "mask = yhat != -1\n",
    "data_final = data_ISO.loc[mask, :].reset_index(drop = True)\n",
    "\n",
    "X_LOF, Y_LOF = data_final.drop('target', axis = 1), data_final.target\n",
    "\n",
    "scores = cross_val_score(rf, \n",
    "                         X_LOF,\n",
    "                         Y_LOF,\n",
    "                         cv = 10, \n",
    "                         scoring = 'neg_root_mean_squared_error',\n",
    "                         n_jobs = -1)\n",
    "\n",
    "print(f'[{lof.__class__.__name__}] --> RMSE Mean: {scores.mean()}, Standard Deviation: {scores.std()}')"
   ]
  },
  {
   "cell_type": "code",
   "execution_count": null,
   "id": "25b0a018",
   "metadata": {},
   "outputs": [],
   "source": [
    "X_final, y_final = data_final.drop('target', axis = 1), data_final.target\n",
    "\n"
   ]
  },
  {
   "cell_type": "code",
   "execution_count": null,
   "id": "84a4db6c",
   "metadata": {},
   "outputs": [],
   "source": [
    "rf.fit(X_final, y_final)\n",
    "\n",
    "imp = pd.DataFrame({'importances': rf.feature_importances_}, index = X_final.columns).sort_values(by = 'importances', ascending = False)"
   ]
  },
  {
   "cell_type": "code",
   "execution_count": null,
   "id": "fdf3212b",
   "metadata": {},
   "outputs": [],
   "source": [
    "selected_features = [\n",
    "    'O2_1', \n",
    "    'O2_2',\n",
    "    'BOD5_5'\n",
    "    ,'NO2_2'\n",
    "    ,'O2_4'\n",
    "    ,'NH4_6'\n",
    "    ,'NH4_1'\n",
    "    #,'NH4_5'\n",
    "    #,'O2_7'\n",
    "    #,'O2_6'\n",
    "]"
   ]
  },
  {
   "cell_type": "code",
   "execution_count": null,
   "id": "51d88325",
   "metadata": {},
   "outputs": [],
   "source": [
    "# kf = RepeatedKFold(n_splits = 10, n_repeats = 5, random_state = 0)\n",
    "scores = cross_val_score(rf, \n",
    "                         X_final[selected_features],\n",
    "                         y_final,\n",
    "                         cv = 10, \n",
    "                         scoring = 'neg_root_mean_squared_error',\n",
    "                         n_jobs = -1)\n",
    "\n",
    "print(f'[ENSEMBLE + FS + CLIPPING_7_20] --> RMSE Mean: {scores.mean()}, Standard Deviation: {scores.std()}')"
   ]
  },
  {
   "cell_type": "code",
   "execution_count": null,
   "id": "44de2e02",
   "metadata": {},
   "outputs": [],
   "source": [
    "# Trick from https://www.kaggle.com/competitions/playground-series-s3e21/discussion/434519\n",
    "\n",
    "bad_labels = [2365, 1089, 1936, 1680, 211,2294,448, 437,309,1684]\n",
    "data_final = data_final[~data_final['id'].isin(bad_labels)]"
   ]
  },
  {
   "cell_type": "code",
   "execution_count": null,
   "id": "069f523b",
   "metadata": {},
   "outputs": [],
   "source": [
    "for column in X.columns:\n",
    "    if column not in selected_features:\n",
    "        data_final[column] = 0        \n",
    "\n"
   ]
  },
  {
   "cell_type": "code",
   "execution_count": null,
   "id": "2c1d6242",
   "metadata": {},
   "outputs": [],
   "source": [
    "df_test = data_final[data_final['target']>8.5]\n",
    "df_test_data = data[data['target']>8.5]\n",
    "df_test = df_test[df_test['target']<8.7]\n",
    "df_test_data = df_test_data[df_test_data['target']<8.7]\n",
    "data_final.shape\n",
    "drop_index = np.random.choice(df_test.index.to_numpy(), 15, replace=False)\n",
    "data_final.loc[drop_index]\n",
    "data_final = data_final.drop(drop_index)\n",
    "\n",
    "data_final.shape"
   ]
  },
  {
   "cell_type": "code",
   "execution_count": null,
   "id": "01175f78",
   "metadata": {},
   "outputs": [],
   "source": [
    "sns.kdeplot(data=data_final[data_final['target']<10], x=\"target\")\n",
    "sns.kdeplot(data=data[data['target']<10], x=\"target\")\n",
    "plt.legend(['data','original_df'])\n",
    "plt.title('target distribution')\n",
    "\n"
   ]
  },
  {
   "cell_type": "code",
   "execution_count": null,
   "id": "52064bc3",
   "metadata": {},
   "outputs": [],
   "source": [
    "submission = data_final.reset_index(drop = True).copy()\n",
    "\n",
    "submission.head()\n",
    "\n"
   ]
  },
  {
   "cell_type": "code",
   "execution_count": null,
   "id": "fe6262a3",
   "metadata": {},
   "outputs": [],
   "source": [
    "submission.shape"
   ]
  },
  {
   "cell_type": "code",
   "execution_count": null,
   "id": "8064d2eb",
   "metadata": {},
   "outputs": [],
   "source": [
    "submission.to_csv('submission.csv', index = False)"
   ]
  },
  {
   "cell_type": "code",
   "execution_count": null,
   "id": "32943697",
   "metadata": {},
   "outputs": [],
   "source": [
    "data_final = data_ISO.loc[mask, :].reset_index(drop = True)\n",
    "\n",
    "X_LOF, Y_LOF = data_final.drop('target', axis = 1), data_final.target"
   ]
  },
  {
   "cell_type": "code",
   "execution_count": null,
   "id": "26b337df",
   "metadata": {},
   "outputs": [],
   "source": []
  },
  {
   "cell_type": "code",
   "execution_count": null,
   "id": "72de3d31",
   "metadata": {},
   "outputs": [],
   "source": []
  },
  {
   "cell_type": "code",
   "execution_count": null,
   "id": "1a543afc",
   "metadata": {},
   "outputs": [],
   "source": []
  },
  {
   "cell_type": "code",
   "execution_count": null,
   "id": "04778b4b",
   "metadata": {},
   "outputs": [],
   "source": []
  },
  {
   "cell_type": "code",
   "execution_count": null,
   "id": "c72f4906",
   "metadata": {},
   "outputs": [],
   "source": []
  },
  {
   "cell_type": "code",
   "execution_count": null,
   "id": "ad2ab4c3",
   "metadata": {},
   "outputs": [],
   "source": []
  },
  {
   "cell_type": "code",
   "execution_count": null,
   "id": "20e530bd",
   "metadata": {},
   "outputs": [],
   "source": []
  },
  {
   "cell_type": "code",
   "execution_count": null,
   "id": "ca089a90",
   "metadata": {},
   "outputs": [],
   "source": []
  },
  {
   "cell_type": "code",
   "execution_count": null,
   "id": "32ef3fa0",
   "metadata": {},
   "outputs": [],
   "source": []
  },
  {
   "cell_type": "code",
   "execution_count": null,
   "id": "71b39dcf",
   "metadata": {},
   "outputs": [],
   "source": []
  },
  {
   "cell_type": "code",
   "execution_count": null,
   "id": "f13d679f",
   "metadata": {},
   "outputs": [],
   "source": []
  }
 ],
 "metadata": {
  "kernelspec": {
   "display_name": "Python 3 (ipykernel)",
   "language": "python",
   "name": "python3"
  },
  "language_info": {
   "codemirror_mode": {
    "name": "ipython",
    "version": 3
   },
   "file_extension": ".py",
   "mimetype": "text/x-python",
   "name": "python",
   "nbconvert_exporter": "python",
   "pygments_lexer": "ipython3",
   "version": "3.8.17"
  }
 },
 "nbformat": 4,
 "nbformat_minor": 5
}
